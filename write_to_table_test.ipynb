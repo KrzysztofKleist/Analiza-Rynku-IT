{
 "cells": [
  {
   "cell_type": "code",
   "execution_count": 1,
   "metadata": {},
   "outputs": [],
   "source": [
    "import sys\n",
    "import os\n",
    "import logging\n",
    "import sqlite3\n",
    "\n",
    "from datetime import datetime"
   ]
  },
  {
   "cell_type": "markdown",
   "metadata": {},
   "source": [
    "Create the logger"
   ]
  },
  {
   "cell_type": "code",
   "execution_count": 2,
   "metadata": {},
   "outputs": [
    {
     "name": "stderr",
     "output_type": "stream",
     "text": [
      "2024-09-10 14:30:12,668 - db_logger - INFO - Logger initialized successfully\n"
     ]
    }
   ],
   "source": [
    "# Create a custom logger named 'db_logger'\n",
    "logger = logging.getLogger(\"db_logger\")\n",
    "logger.setLevel(logging.INFO)  # Set the lowest level to INFO, so DEBUG logs are ignored\n",
    "\n",
    "# Define log file path\n",
    "log_file_path = \"logs/db_connection.log\"  # Log file inside 'logs' directory\n",
    "\n",
    "# Ensure the directory for the log file exists, create it if it doesn't\n",
    "log_dir = os.path.dirname(log_file_path)\n",
    "if not os.path.exists(log_dir):\n",
    "    os.makedirs(log_dir)\n",
    "\n",
    "# Create handlers\n",
    "file_handler = logging.FileHandler(log_file_path)\n",
    "console_handler = logging.StreamHandler()\n",
    "\n",
    "# Set level for handlers to INFO and above\n",
    "file_handler.setLevel(logging.INFO)  # Log INFO and higher levels to the file\n",
    "console_handler.setLevel(logging.INFO)  # Print INFO and higher levels to the console\n",
    "\n",
    "# Create formatters and add them to handlers\n",
    "formatter = logging.Formatter(\"%(asctime)s - %(name)s - %(levelname)s - %(message)s\")\n",
    "file_handler.setFormatter(formatter)\n",
    "console_handler.setFormatter(formatter)\n",
    "\n",
    "# Add handlers to the logger\n",
    "logger.addHandler(file_handler)\n",
    "logger.addHandler(console_handler)\n",
    "\n",
    "# Log a message to check if file handler works\n",
    "logger.info(\"Logger initialized successfully\")"
   ]
  },
  {
   "cell_type": "markdown",
   "metadata": {},
   "source": [
    "Define the data"
   ]
  },
  {
   "cell_type": "code",
   "execution_count": 3,
   "metadata": {},
   "outputs": [],
   "source": [
    "# Define multiple rows of data\n",
    "data = [\n",
    "    \"https://example.com/job_offer1\",\n",
    "    \"https://example.com/job_offer2\",\n",
    "    \"https://example.com/job_offer3\",\n",
    "    \"https://example.com/job_offer4\",\n",
    "    \"https://example.com/job_offer5\",\n",
    "]"
   ]
  },
  {
   "cell_type": "markdown",
   "metadata": {},
   "source": [
    "Check if the table exists, if not - create it"
   ]
  },
  {
   "cell_type": "code",
   "execution_count": 4,
   "metadata": {},
   "outputs": [
    {
     "name": "stderr",
     "output_type": "stream",
     "text": [
      "2024-09-10 14:30:12,692 - db_logger - INFO - Attempting to connect to the database\n",
      "2024-09-10 14:30:12,694 - db_logger - INFO - The offers table already exists\n",
      "2024-09-10 14:30:12,695 - db_logger - INFO - Connected to the database successfully\n"
     ]
    }
   ],
   "source": [
    "try:\n",
    "    # Connect to the SQLite database\n",
    "    job_offers_db = sqlite3.connect(\"job_offers_db.db\")\n",
    "    cursor = job_offers_db.cursor()\n",
    "\n",
    "    logger.info(\"Attempting to connect to the database\")\n",
    "\n",
    "    # Query sqlite_master to check if the \"offers\" table exists\n",
    "    cursor.execute(\n",
    "        \"\"\"\n",
    "        SELECT name\n",
    "        FROM sqlite_master \n",
    "        WHERE type='table' AND name='offers';\n",
    "        \"\"\"\n",
    "    )\n",
    "\n",
    "    # Fetch the result\n",
    "    result = cursor.fetchone()\n",
    "\n",
    "    if not result:\n",
    "        logger.info(\"The offers table doesn't exists - creating one\")\n",
    "\n",
    "        cursor.execute(\n",
    "            \"\"\"\n",
    "            CREATE TABLE \"offers\" (\n",
    "                \"offer_id\" INTEGER NOT NULL UNIQUE,\n",
    "                \"link\" TEXT NOT NULL,\n",
    "                \"date_created\" TEXT NOT NULL,\n",
    "                \"date_updated\" TEXT NOT NULL,\n",
    "                \"active\" INTEGER NOT NULL,\n",
    "                PRIMARY KEY(\"offer_id\" AUTOINCREMENT)\n",
    "            )\n",
    "            \"\"\"\n",
    "        )\n",
    "\n",
    "        # Commit the transaction\n",
    "        job_offers_db.commit()\n",
    "\n",
    "    else:\n",
    "        logger.info(\"The offers table already exists\")\n",
    "\n",
    "except Exception as e:\n",
    "    logger.error(f\"Error while connecting to a database: \\n{type(e).__name__}: {e}\")\n",
    "    sys.exit(1)\n",
    "\n",
    "else:\n",
    "    # Log successful connection\n",
    "    logger.info(\"Connected to the database successfully\")"
   ]
  },
  {
   "cell_type": "markdown",
   "metadata": {},
   "source": [
    "Insert to or update existing rows in a table"
   ]
  },
  {
   "cell_type": "code",
   "execution_count": 5,
   "metadata": {},
   "outputs": [
    {
     "name": "stderr",
     "output_type": "stream",
     "text": [
      "2024-09-10 14:30:12,709 - db_logger - INFO - https://example.com/job_offer1 - not in database - creating\n",
      "2024-09-10 14:30:12,717 - db_logger - INFO - https://example.com/job_offer2 - not in database - creating\n",
      "2024-09-10 14:30:12,726 - db_logger - INFO - https://example.com/job_offer3 - already in database - updating\n",
      "2024-09-10 14:30:12,728 - db_logger - INFO - https://example.com/job_offer4 - already in database - updating\n",
      "2024-09-10 14:30:12,729 - db_logger - INFO - https://example.com/job_offer5 - already in database - updating\n"
     ]
    }
   ],
   "source": [
    "for link in data:\n",
    "    # Check if data row already exists in the database by the link\n",
    "    cursor.execute(\n",
    "        \"\"\"\n",
    "        SELECT * \n",
    "        FROM offers\n",
    "        WHERE link = ?\n",
    "        \"\"\",\n",
    "        (link,),\n",
    "    )\n",
    "\n",
    "    if cursor.fetchone():  # If the row exists update it, else create a new one\n",
    "        try:\n",
    "            logger.info(f\"{link} - already in database - updating\")\n",
    "\n",
    "            cursor.execute(\n",
    "                \"\"\"\n",
    "                UPDATE offers\n",
    "                SET \n",
    "                    date_updated = ?\n",
    "                \"\"\",\n",
    "                (datetime.today().strftime(\"%d-%m-%y\"),),\n",
    "            )\n",
    "\n",
    "            # Commit the transaction\n",
    "            job_offers_db.commit()\n",
    "\n",
    "        except Exception as e:\n",
    "            logger.error(\n",
    "                f\"Error udpating a row: \\nlink: {link}\\n{type(e).__name__}: {e}\"\n",
    "            )\n",
    "    else:\n",
    "        try:\n",
    "            logger.info(f\"{link} - not in database - creating\")\n",
    "\n",
    "            cursor.execute(\n",
    "                \"\"\"\n",
    "                INSERT INTO offers (link, date_created, date_updated, active)\n",
    "                    VALUES (?, ?, ?, ?)\n",
    "                \"\"\",\n",
    "                (\n",
    "                    link,\n",
    "                    datetime.today().strftime(\"%d-%m-%y\"),\n",
    "                    datetime.today().strftime(\"%d-%m-%y\"),\n",
    "                    1,\n",
    "                ),\n",
    "            )\n",
    "\n",
    "            # Commit the transaction\n",
    "            job_offers_db.commit()\n",
    "\n",
    "        except Exception as e:\n",
    "            logger.error(\n",
    "                f\"Error creating a row: \\nlink: {link}\\n{type(e).__name__}: {e}\"\n",
    "            )"
   ]
  },
  {
   "cell_type": "markdown",
   "metadata": {},
   "source": [
    "Set the state of the offer to false if date_updated is not a current date"
   ]
  },
  {
   "cell_type": "code",
   "execution_count": 6,
   "metadata": {},
   "outputs": [
    {
     "name": "stderr",
     "output_type": "stream",
     "text": [
      "2024-09-10 14:30:12,740 - db_logger - INFO - Updating the state of all offers\n",
      "2024-09-10 14:30:12,742 - db_logger - INFO - Offers state updated\n"
     ]
    }
   ],
   "source": [
    "try:\n",
    "    logger.info(f\"Updating the state of all offers\")\n",
    "    \n",
    "    cursor.execute(\n",
    "    \"\"\"\n",
    "    UPDATE offers\n",
    "    SET\n",
    "        active = CASE WHEN date_updated = ? THEN 1 ELSE 0 END\n",
    "    \"\"\",\n",
    "        (datetime.today().strftime(\"%d-%m-%y\"),),\n",
    "    )\n",
    "    \n",
    "    logger.info(f\"Offers state updated\")\n",
    "    \n",
    "except Exception as e:\n",
    "    logger.error(f\"Error updating a state of an offer: \\n{type(e).__name__}: {e}\")"
   ]
  },
  {
   "cell_type": "code",
   "execution_count": 7,
   "metadata": {},
   "outputs": [
    {
     "name": "stderr",
     "output_type": "stream",
     "text": [
      "2024-09-10 14:30:12,754 - db_logger - INFO - Database connection closed\n"
     ]
    }
   ],
   "source": [
    "# Close the cursor and connection\n",
    "cursor.close()\n",
    "job_offers_db.close()\n",
    "\n",
    "logger.info(f\"Database connection closed\")"
   ]
  },
  {
   "cell_type": "code",
   "execution_count": null,
   "metadata": {},
   "outputs": [],
   "source": []
  }
 ],
 "metadata": {
  "kernelspec": {
   "display_name": "it-offers-venv",
   "language": "python",
   "name": "python3"
  },
  "language_info": {
   "codemirror_mode": {
    "name": "ipython",
    "version": 3
   },
   "file_extension": ".py",
   "mimetype": "text/x-python",
   "name": "python",
   "nbconvert_exporter": "python",
   "pygments_lexer": "ipython3",
   "version": "3.11.4"
  }
 },
 "nbformat": 4,
 "nbformat_minor": 2
}
