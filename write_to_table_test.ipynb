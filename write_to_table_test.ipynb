{
 "cells": [
  {
   "cell_type": "code",
   "execution_count": 1,
   "metadata": {},
   "outputs": [],
   "source": [
    "import sqlite3\n",
    "from datetime import datetime"
   ]
  },
  {
   "cell_type": "markdown",
   "metadata": {},
   "source": [
    "Define the data"
   ]
  },
  {
   "cell_type": "code",
   "execution_count": 2,
   "metadata": {},
   "outputs": [],
   "source": [
    "# Define multiple rows of data\n",
    "data = [\n",
    "    # \"https://example.com/job_offer1\",\n",
    "    # \"https://example.com/job_offer2\",\n",
    "    \"https://example.com/job_offer3\",\n",
    "    \"https://example.com/job_offer4\",\n",
    "    \"https://example.com/job_offer5\",\n",
    "]"
   ]
  },
  {
   "cell_type": "markdown",
   "metadata": {},
   "source": [
    "Check if the table exists, if not - create it"
   ]
  },
  {
   "cell_type": "code",
   "execution_count": 3,
   "metadata": {},
   "outputs": [],
   "source": [
    "try:\n",
    "    # Connect to the SQLite database\n",
    "    job_offers_db = sqlite3.connect(\"job_offers_db.db\")\n",
    "    cursor = job_offers_db.cursor()\n",
    "\n",
    "    # Query sqlite_master to check if the \"offers\" table exists\n",
    "    cursor.execute(\n",
    "        \"\"\"\n",
    "        SELECT name\n",
    "        FROM sqlite_master \n",
    "        WHERE type='table' AND name='offers';\n",
    "        \"\"\"\n",
    "    )\n",
    "\n",
    "    # Fetch the result\n",
    "    result = cursor.fetchone()\n",
    "\n",
    "    if not result:\n",
    "        cursor.execute(\n",
    "            \"\"\"\n",
    "            CREATE TABLE \"offers\" (\n",
    "                \"offer_id\" INTEGER NOT NULL UNIQUE,\n",
    "                \"link\" TEXT NOT NULL,\n",
    "                \"date_created\" TEXT NOT NULL,\n",
    "                \"date_updated\" TEXT NOT NULL,\n",
    "                \"active\" INTEGER NOT NULL,\n",
    "                PRIMARY KEY(\"offer_id\" AUTOINCREMENT)\n",
    "            )\n",
    "            \"\"\"\n",
    "        )\n",
    "\n",
    "        # Commit the transaction\n",
    "        job_offers_db.commit()\n",
    "\n",
    "except Exception as e:\n",
    "    print(f\"Error while connecting to a database: \\n{type(e).__name__}: {e}\")"
   ]
  },
  {
   "cell_type": "markdown",
   "metadata": {},
   "source": [
    "Insert to or update existing rows in a table"
   ]
  },
  {
   "cell_type": "code",
   "execution_count": 4,
   "metadata": {},
   "outputs": [],
   "source": [
    "for link in data:\n",
    "    # Check if data row already exists in the database by the link\n",
    "    cursor.execute(\n",
    "        \"\"\"\n",
    "        SELECT * \n",
    "        FROM offers\n",
    "        WHERE link = ?\n",
    "        \"\"\",\n",
    "        (link,),\n",
    "    )\n",
    "\n",
    "    if cursor.fetchone():  # If the row exists update it, else create a new one\n",
    "        try:\n",
    "            cursor.execute(\n",
    "                \"\"\"\n",
    "                UPDATE offers\n",
    "                SET \n",
    "                    date_updated = ?\n",
    "                \"\"\",\n",
    "                (datetime.today().strftime(\"%d-%m-%y\"),),\n",
    "            )\n",
    "\n",
    "            # Commit the transaction\n",
    "            job_offers_db.commit()\n",
    "\n",
    "        except Exception as e:\n",
    "            print(f\"Error udpating a row: \\n{type(e).__name__}: {e}\")\n",
    "    else:\n",
    "        try:\n",
    "            cursor.execute(\n",
    "                \"\"\"\n",
    "                INSERT INTO offers (link, date_created, date_updated, active)\n",
    "                    VALUES (?, ?, ?, ?)\n",
    "                \"\"\",\n",
    "                (\n",
    "                    link,\n",
    "                    datetime.today().strftime(\"%d-%m-%y\"),\n",
    "                    datetime.today().strftime(\"%d-%m-%y\"),\n",
    "                    1,\n",
    "                ),\n",
    "            )\n",
    "\n",
    "            # Commit the transaction\n",
    "            job_offers_db.commit()\n",
    "\n",
    "        except Exception as e:\n",
    "            print(f\"Error creating a row: \\n{type(e).__name__}: {e}\")"
   ]
  },
  {
   "cell_type": "markdown",
   "metadata": {},
   "source": [
    "Set the state of the offer to false if date_updated is not a current date"
   ]
  },
  {
   "cell_type": "code",
   "execution_count": 5,
   "metadata": {},
   "outputs": [],
   "source": [
    "try:\n",
    "    cursor.execute(\n",
    "    \"\"\"\n",
    "    UPDATE offers\n",
    "    SET\n",
    "        active = CASE WHEN date_updated = ? THEN 1 ELSE 0 END\n",
    "    \"\"\",\n",
    "        (datetime.today().strftime(\"%d-%m-%y\"),),\n",
    "    )\n",
    "except Exception as e:\n",
    "    print(f\"Error updating a state of an offer: \\n{type(e).__name__}: {e}\")"
   ]
  },
  {
   "cell_type": "code",
   "execution_count": 6,
   "metadata": {},
   "outputs": [],
   "source": [
    "# Close the cursor and connection\n",
    "cursor.close()\n",
    "job_offers_db.close()"
   ]
  },
  {
   "cell_type": "code",
   "execution_count": null,
   "metadata": {},
   "outputs": [],
   "source": []
  }
 ],
 "metadata": {
  "kernelspec": {
   "display_name": "it-offers-venv",
   "language": "python",
   "name": "python3"
  },
  "language_info": {
   "codemirror_mode": {
    "name": "ipython",
    "version": 3
   },
   "file_extension": ".py",
   "mimetype": "text/x-python",
   "name": "python",
   "nbconvert_exporter": "python",
   "pygments_lexer": "ipython3",
   "version": "3.11.4"
  }
 },
 "nbformat": 4,
 "nbformat_minor": 2
}
