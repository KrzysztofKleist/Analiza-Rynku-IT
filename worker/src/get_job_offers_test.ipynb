{
 "cells": [
  {
   "cell_type": "code",
   "execution_count": 11,
   "metadata": {},
   "outputs": [],
   "source": [
    "import time\n",
    "import re\n",
    "import json\n",
    "from pathlib import Path\n",
    "\n",
    "from selenium import webdriver\n",
    "from selenium.webdriver.common.by import By\n",
    "from selenium.webdriver.common.keys import Keys\n",
    "from selenium.webdriver.chrome.options import Options"
   ]
  },
  {
   "cell_type": "code",
   "execution_count": 12,
   "metadata": {},
   "outputs": [],
   "source": [
    "# Extract url from settings.json\n",
    "settings_path = Path(\"../settings.json\")\n",
    "settings = json.loads(settings_path.open().read())\n",
    "url = settings[\"URL1\"]"
   ]
  },
  {
   "cell_type": "code",
   "execution_count": 13,
   "metadata": {},
   "outputs": [
    {
     "name": "stdout",
     "output_type": "stream",
     "text": [
      "Element clicked successfully!\n"
     ]
    }
   ],
   "source": [
    "# Initialize the WebDriver\n",
    "driver = webdriver.Edge()\n",
    "# driver = webdriver.Chrome()\n",
    "# driver.execute_script(\"options.addArguments(\"--disable-search-engine-choice-screen\");\").\n",
    "\n",
    "# Open the homepage\n",
    "driver.get(url)\n",
    "\n",
    "# Wait for the page to load\n",
    "time.sleep(2)\n",
    "\n",
    "try:\n",
    "    # Use the id to locate the element\n",
    "    element = driver.find_element(By.ID, \"cookiescript_close\")\n",
    "    element.click()  # Perform the click action\n",
    "    print(\"Element clicked successfully!\")\n",
    "\n",
    "except Exception as e:\n",
    "    print(f\"Error occurred while finding/clicking the element: {e}\")"
   ]
  },
  {
   "cell_type": "code",
   "execution_count": 14,
   "metadata": {},
   "outputs": [
    {
     "name": "stdout",
     "output_type": "stream",
     "text": [
      "Number of offers: 10329\n"
     ]
    }
   ],
   "source": [
    "try:\n",
    "    # Use the full class name to locate the element\n",
    "    element = driver.find_element(By.CLASS_NAME, \"MuiTab-iconWrapper\")\n",
    "\n",
    "    # Get the text content of the element\n",
    "    offers_text = element.text\n",
    "\n",
    "    # Use regex to extract the integer, allowing for spaces as thousand separators\n",
    "    offers_number = re.search(\n",
    "        r\"(\\d+\\s?)+\", offers_text\n",
    "    )  # This captures numbers with optional spaces\n",
    "    if offers_number:\n",
    "        # Remove spaces and convert to an integer\n",
    "        offers_number = int(offers_number.group().replace(\" \", \"\"))\n",
    "        print(\"Number of offers:\", offers_number)\n",
    "\n",
    "except Exception as e:\n",
    "    print(f\"Error occurred while finding the element: {e}\")\n",
    "\n",
    "# Wait for results to load\n",
    "time.sleep(2)"
   ]
  },
  {
   "cell_type": "code",
   "execution_count": 15,
   "metadata": {},
   "outputs": [],
   "source": [
    "SCROLL_PAUSE_TIME = 2.0\n",
    "\n",
    "# Get scroll height\n",
    "last_height = driver.execute_script(\"return document.body.scrollHeight\")\n",
    "\n",
    "offset_from_bottom = 0.2 * last_height\n",
    "\n",
    "# Scroll down to bottom\n",
    "# driver.execute_script(f\"window.scrollTo(0, {last_height - offset_from_bottom});\")\n",
    "\n",
    "while True:\n",
    "    # Scroll down to bottom\n",
    "    driver.execute_script(f\"window.scrollTo(0, {last_height - offset_from_bottom});\")\n",
    "\n",
    "    # Wait to load page\n",
    "    time.sleep(SCROLL_PAUSE_TIME)\n",
    "\n",
    "    # Calculate new scroll height and compare with last scroll height\n",
    "    new_height = driver.execute_script(\"return document.body.scrollHeight\")\n",
    "    if new_height == last_height:\n",
    "        break\n",
    "    last_height = new_height"
   ]
  },
  {
   "cell_type": "code",
   "execution_count": 16,
   "metadata": {},
   "outputs": [],
   "source": [
    "# Close the browser\n",
    "driver.quit()"
   ]
  },
  {
   "cell_type": "code",
   "execution_count": null,
   "metadata": {},
   "outputs": [],
   "source": []
  }
 ],
 "metadata": {
  "kernelspec": {
   "display_name": "it-offers-venv",
   "language": "python",
   "name": "python3"
  },
  "language_info": {
   "codemirror_mode": {
    "name": "ipython",
    "version": 3
   },
   "file_extension": ".py",
   "mimetype": "text/x-python",
   "name": "python",
   "nbconvert_exporter": "python",
   "pygments_lexer": "ipython3",
   "version": "3.11.4"
  }
 },
 "nbformat": 4,
 "nbformat_minor": 2
}
